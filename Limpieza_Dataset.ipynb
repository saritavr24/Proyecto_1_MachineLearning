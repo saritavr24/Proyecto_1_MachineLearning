{
 "cells": [
  {
   "cell_type": "code",
   "execution_count": 4,
   "metadata": {},
   "outputs": [
    {
     "ename": "ModuleNotFoundError",
     "evalue": "No module named 'textblob'",
     "output_type": "error",
     "traceback": [
      "\u001b[1;31m---------------------------------------------------------------------------\u001b[0m",
      "\u001b[1;31mModuleNotFoundError\u001b[0m                       Traceback (most recent call last)",
      "Cell \u001b[1;32mIn[4], line 7\u001b[0m\n\u001b[0;32m      5\u001b[0m \u001b[38;5;28;01mimport\u001b[39;00m \u001b[38;5;21;01mast\u001b[39;00m \u001b[38;5;28;01mas\u001b[39;00m \u001b[38;5;21;01mast\u001b[39;00m\n\u001b[0;32m      6\u001b[0m \u001b[38;5;28;01mimport\u001b[39;00m \u001b[38;5;21;01mre\u001b[39;00m\n\u001b[1;32m----> 7\u001b[0m \u001b[38;5;28;01mfrom\u001b[39;00m \u001b[38;5;21;01mtextblob\u001b[39;00m \u001b[38;5;28;01mimport\u001b[39;00m TextBlob\n\u001b[0;32m      8\u001b[0m \u001b[38;5;28;01mfrom\u001b[39;00m \u001b[38;5;21;01msklearn\u001b[39;00m\u001b[38;5;21;01m.\u001b[39;00m\u001b[38;5;21;01mmetrics\u001b[39;00m\u001b[38;5;21;01m.\u001b[39;00m\u001b[38;5;21;01mpairwise\u001b[39;00m \u001b[38;5;28;01mimport\u001b[39;00m cosine_similarity\n\u001b[0;32m      9\u001b[0m \u001b[38;5;28;01mfrom\u001b[39;00m \u001b[38;5;21;01msklearn\u001b[39;00m\u001b[38;5;21;01m.\u001b[39;00m\u001b[38;5;21;01mfeature_extraction\u001b[39;00m\u001b[38;5;21;01m.\u001b[39;00m\u001b[38;5;21;01mtext\u001b[39;00m \u001b[38;5;28;01mimport\u001b[39;00m TfidfVectorizer\n",
      "\u001b[1;31mModuleNotFoundError\u001b[0m: No module named 'textblob'"
     ]
    }
   ],
   "source": [
    "import pandas as pd\n",
    "from pandas import json_normalize\n",
    "import numpy as np\n",
    "import json as js\n",
    "import ast as ast\n",
    "import re\n",
    "from textblob import TextBlob\n",
    "from sklearn.metrics.pairwise import cosine_similarity\n",
    "from sklearn.feature_extraction.text import TfidfVectorizer"
   ]
  },
  {
   "cell_type": "markdown",
   "metadata": {},
   "source": [
    "### Carga de JSON a DataFrames"
   ]
  },
  {
   "cell_type": "code",
   "execution_count": 2,
   "metadata": {},
   "outputs": [],
   "source": [
    "games = pd.read_json('output_steam_games.json', lines = True)"
   ]
  },
  {
   "cell_type": "code",
   "execution_count": 3,
   "metadata": {},
   "outputs": [],
   "source": [
    "list_rev = []\n",
    "archivo1 = r'australian_user_reviews.json'\n",
    "with open(archivo1, encoding='utf-8') as file:\n",
    "    for line in file.readlines():\n",
    "        list_rev.append(ast.literal_eval(line))\n",
    "\n",
    "reviews = pd.DataFrame(list_rev)"
   ]
  },
  {
   "cell_type": "code",
   "execution_count": 4,
   "metadata": {},
   "outputs": [],
   "source": [
    "list_items = []\n",
    "archivo2 = r'australian_users_items.json'\n",
    "with open(archivo2, encoding='utf-8') as file:\n",
    "    for line in file.readlines():\n",
    "        list_items.append(ast.literal_eval(line))\n",
    "\n",
    "items = pd.DataFrame(list_items)"
   ]
  },
  {
   "cell_type": "markdown",
   "metadata": {},
   "source": [
    "### Tratamiento de Datos"
   ]
  },
  {
   "cell_type": "markdown",
   "metadata": {},
   "source": [
    "Desanidación de las tablas Reviews e Items."
   ]
  },
  {
   "cell_type": "code",
   "execution_count": 5,
   "metadata": {},
   "outputs": [],
   "source": [
    "reviews = reviews.explode('reviews', ignore_index=True)\n",
    "reviews_expanded = pd.json_normalize(reviews['reviews'])\n",
    "reviews_expanded=reviews_expanded.replace('',None)\n",
    "reviews = reviews.join(reviews_expanded)\n",
    "reviews.drop(columns=['reviews'],inplace=True)"
   ]
  },
  {
   "cell_type": "code",
   "execution_count": 6,
   "metadata": {},
   "outputs": [],
   "source": [
    "items = items.explode('items', ignore_index=True)\n",
    "items_expanded = pd.json_normalize(items['items'])\n",
    "items_expanded = items_expanded.replace('', None)\n",
    "items = items.join(items_expanded)\n",
    "items.drop(columns=['items'], inplace=True)"
   ]
  },
  {
   "cell_type": "markdown",
   "metadata": {},
   "source": [
    "Eliminación de filas y columnas con valores nulos o innecesarias para el análisis."
   ]
  },
  {
   "cell_type": "code",
   "execution_count": 7,
   "metadata": {},
   "outputs": [],
   "source": [
    "games = games.drop(columns=['publisher', 'title', 'url', 'reviews_url'])\n",
    "games = games.dropna(how='all')\n",
    "\n",
    "items = items.drop(columns=['steam_id', 'user_url'])\n",
    "items = items.dropna()\n",
    "\n",
    "reviews = reviews.drop(columns=['user_url', 'funny', 'last_edited', 'helpful'])\n",
    "reviews = reviews.dropna(thresh=3)"
   ]
  },
  {
   "cell_type": "markdown",
   "metadata": {},
   "source": [
    "Reemplazo de valores y Cambio de tipo de dato."
   ]
  },
  {
   "cell_type": "code",
   "execution_count": 8,
   "metadata": {},
   "outputs": [],
   "source": [
    "# PRICE:\n",
    "\n",
    "games['price'] = games['price'].replace('Starting at $499.00', 499.00)\n",
    "games['price'] = games['price'].replace('Starting at $449.00', 449.00)\n",
    "\n",
    "mask = games['price'].apply(lambda x: isinstance(x, str))\n",
    "games.loc[mask, 'price'] = 0.00\n",
    "\n",
    "games['price'] = pd.to_numeric(games['price'], errors='coerce')\n",
    "\n",
    "\n",
    "# FECHA:\n",
    "\n",
    "def convertir_fecha(fecha):\n",
    "    # Formatos conocidos\n",
    "    for fmt in ['%B %Y', '%b %Y', '%Y-%m-%d', '%Y']:\n",
    "        try:\n",
    "            return pd.to_datetime(fecha, format=fmt)\n",
    "        except ValueError:\n",
    "            continue\n",
    "\n",
    "    # Casos donde hay texto antes del año\n",
    "    match = re.search(r'\\b(\\d{4})\\b', fecha)\n",
    "    if match:\n",
    "        # Si encuentra un año, convertirlo\n",
    "        return pd.to_datetime(match.group(1), format='%Y')\n",
    "\n",
    "    return pd.NaT  # Si no coincide con ningún formato, devuelve NaT\n",
    "\n",
    "# Aplicar la función de conversión\n",
    "games['release_date'] = games['release_date'].apply(convertir_fecha)\n",
    "\n",
    "# Extraer el año\n",
    "games['release_date'] = games['release_date'].dt.year\n",
    "\n",
    "# Cambio de nombre de la columna release_date\n",
    "games = games.rename(columns={'release_date': 'year'})\n",
    "\n",
    "# Cambio de nombre de la columna app_name\n",
    "games = games.rename(columns={'app_name': 'item_name'})\n",
    "\n",
    "# Cambio de nombre de la columna id\n",
    "games = games.rename(columns={'id': 'item_id'})\n",
    "\n",
    "# Valores nulos se rellenarán con cero para poder realizar el cambio de tipo de dato\n",
    "games['item_id'] = games['item_id'].fillna(0)\n",
    "# Cambio de tipo de dato de la columna item_id\n",
    "games['item_id'] = games['item_id'].astype(int)\n",
    "\n",
    "# Valores nulos se rellenarán con cero para poder realizar el cambio de tipo de dato\n",
    "games['year'] = games['year'].fillna(0)\n",
    "# Cambio de tipo de dato de la columna year\n",
    "games['year'] = games['year'].astype(int)"
   ]
  },
  {
   "cell_type": "markdown",
   "metadata": {},
   "source": [
    "Eliminación de filas duplicadas."
   ]
  },
  {
   "cell_type": "code",
   "execution_count": 9,
   "metadata": {},
   "outputs": [],
   "source": [
    "reviews = reviews.drop_duplicates()\n",
    "items = items.drop_duplicates()"
   ]
  },
  {
   "cell_type": "markdown",
   "metadata": {},
   "source": [
    "### Análisis de sentimiento con NLP"
   ]
  },
  {
   "cell_type": "code",
   "execution_count": 10,
   "metadata": {},
   "outputs": [],
   "source": [
    "def analizar_sentimiento(row):\n",
    "    reseña = row['review']\n",
    "    recomendacion = row['recommend']\n",
    "    \n",
    "    # Caso: la reseña está vacía\n",
    "    if pd.isnull(reseña) or reseña.strip() == '':\n",
    "        # Si no hay reseña, usar la recomendación para determinar el sentimiento\n",
    "        if recomendacion:\n",
    "            return 2  # Si recomienda el juego, asignar positivo\n",
    "        else:\n",
    "            return 0  # Si no recomienda el juego, asignar negativo\n",
    "    \n",
    "    # Si la reseña está presente, hacer el análisis de sentimiento\n",
    "    analysis = TextBlob(reseña).sentiment.polarity\n",
    "    \n",
    "    # Asignar el sentimiento basado en la polaridad\n",
    "    if analysis < -0.1:\n",
    "        return 0  # Sentimiento negativo\n",
    "    elif analysis > 0.1:\n",
    "        return 2  # Sentimiento positivo\n",
    "    else:\n",
    "        return 1  # Neutral\n",
    "\n",
    "# Aplicar la función al dataset\n",
    "reviews['sentiment_analysis'] = reviews.apply(analizar_sentimiento, axis=1)"
   ]
  },
  {
   "cell_type": "markdown",
   "metadata": {},
   "source": [
    "### Guardar los archivos limpiados"
   ]
  },
  {
   "cell_type": "code",
   "execution_count": 11,
   "metadata": {},
   "outputs": [],
   "source": [
    "# Ruta especifica donde quiero guardar los archivos JSON\n",
    "ruta_games = 'C:\\\\Users\\\\Sarita\\\\Desktop\\\\SOY HENRY\\\\Proyecto 1\\\\games_cleaned.json'\n",
    "ruta_reviews = 'C:\\\\Users\\\\Sarita\\\\Desktop\\\\SOY HENRY\\\\Proyecto 1\\\\reviews_cleaned.json'\n",
    "ruta_items = 'C:\\\\Users\\\\Sarita\\\\Desktop\\\\SOY HENRY\\\\Proyecto 1\\\\items_cleaned.json'\n",
    "\n",
    "# Guarda el DataFrame en formato JSON en la ruta especificada\n",
    "games.to_json(ruta_games, orient='records', lines=True)\n",
    "reviews.to_json(ruta_reviews, orient='records', lines=True)\n",
    "items.to_json(ruta_items, orient='records', lines=True)"
   ]
  },
  {
   "cell_type": "code",
   "execution_count": 12,
   "metadata": {},
   "outputs": [],
   "source": [
    "games_cleaned = pd.read_json('games_cleaned.json', lines = True)\n",
    "reviews_cleaned = pd.read_json('reviews_cleaned.json', lines = True)\n",
    "items_cleaned = pd.read_json('items_cleaned.json', lines = True)"
   ]
  },
  {
   "cell_type": "markdown",
   "metadata": {},
   "source": [
    "### FastAPI"
   ]
  },
  {
   "cell_type": "markdown",
   "metadata": {},
   "source": [
    "Consulta 1: Cantidad de items y porcentaje de contenido Free por año según empresa desarrolladora."
   ]
  },
  {
   "cell_type": "code",
   "execution_count": 13,
   "metadata": {},
   "outputs": [],
   "source": [
    "# Función para calcular la cantidad de items y el porcentaje de contenido gratuito\n",
    "def developer_items_free(df):\n",
    "\n",
    "    df_filtrado = games_cleaned[games_cleaned['developer'] == df]\n",
    "    games_agrupado = df_filtrado.groupby(games_cleaned['year']).agg(\n",
    "    cantidad_items=('item_name', 'count'),\n",
    "    items_gratuitos=('price', lambda x: (x == 0).sum())\n",
    "    )\n",
    "\n",
    "    # Calculamos el porcentaje de apps gratuitas\n",
    "    games_agrupado['contenido_free'] = (games_agrupado['items_gratuitos'] / games_agrupado['cantidad_items']) * 100\n",
    "    games_agrupado['contenido_free'] = games_agrupado['contenido_free'].round(2).astype(str) + '%'\n",
    "\n",
    "    # Reseteamos el índice para tener una estructura de DataFrame más convencional\n",
    "    games_agrupado = games_agrupado.reset_index()\n",
    "    return (games_agrupado)"
   ]
  },
  {
   "cell_type": "code",
   "execution_count": 1,
   "metadata": {},
   "outputs": [
    {
     "ename": "NameError",
     "evalue": "name 'developer_items_free' is not defined",
     "output_type": "error",
     "traceback": [
      "\u001b[1;31m---------------------------------------------------------------------------\u001b[0m",
      "\u001b[1;31mNameError\u001b[0m                                 Traceback (most recent call last)",
      "Cell \u001b[1;32mIn[1], line 1\u001b[0m\n\u001b[1;32m----> 1\u001b[0m r \u001b[38;5;241m=\u001b[39m \u001b[43mdeveloper_items_free\u001b[49m(\u001b[38;5;124m'\u001b[39m\u001b[38;5;124mSmiteWorks USA, LLC\u001b[39m\u001b[38;5;124m'\u001b[39m)\n\u001b[0;32m      2\u001b[0m \u001b[38;5;28mprint\u001b[39m(r)\n",
      "\u001b[1;31mNameError\u001b[0m: name 'developer_items_free' is not defined"
     ]
    }
   ],
   "source": [
    "r = developer_items_free('SmiteWorks USA, LLC')\n",
    "print(r)"
   ]
  },
  {
   "cell_type": "markdown",
   "metadata": {},
   "source": [
    "Consulta 2: Debe devolver cantidad de dinero gastado por el usuario, el porcentaje de recomendación en base a reviews.recommend y cantidad de items."
   ]
  },
  {
   "cell_type": "code",
   "execution_count": 15,
   "metadata": {},
   "outputs": [],
   "source": [
    "# Función para calcular cantidad de dinero gastado por el usuario, el porcentaje de recomendación y cantidad de items.\n",
    "def user_statistics(user):\n",
    "\n",
    "    # Filtrar los juegos comprados por el usuario\n",
    "    user_items_data = items_cleaned[items_cleaned['user_id'] == user]\n",
    "    # Filtrar las recomendaciones hechas por el usuario\n",
    "    user_reviews_data = reviews_cleaned[reviews_cleaned['user_id'] == user]\n",
    "    # Unir el DataFrame de games con el de items\n",
    "    user_data = pd.merge(games_cleaned, user_items_data, on=['item_name'], how='right')\n",
    "\n",
    "    # Calcular la cantidad total de dinero gastado\n",
    "    total_spent = user_data['price'].sum()\n",
    "    total_spent = round(total_spent, 2)\n",
    "\n",
    "    # Calcular la cantidad total de juegos comprados\n",
    "    total_games = user_items_data.shape[0]\n",
    "\n",
    "    # Calcular el porcentaje de recomendación (True vs False en 'recommend')\n",
    "    total_recommendations = user_reviews_data['recommend'].sum()  # Cuenta cuántos son True\n",
    "    recommendation_percentage = (total_recommendations / total_games) * 100 if total_games > 0 else 0\n",
    "\n",
    "    # Redondear el porcentaje a 2 decimales\n",
    "    recommendation_percentage = round(recommendation_percentage, 2)\n",
    "\n",
    "    # Devolver los resultados en un diccionario\n",
    "    return {\n",
    "        \"user_id\": user,\n",
    "        \"total_spent\": f\"${total_spent}\",\n",
    "        \"recommendation_percentage\": f\"{recommendation_percentage}%\",\n",
    "        \"total_games\": total_games\n",
    "    }\n"
   ]
  },
  {
   "cell_type": "code",
   "execution_count": null,
   "metadata": {},
   "outputs": [],
   "source": [
    "s = user_statistics('evcentric')\n",
    "print(s)"
   ]
  },
  {
   "cell_type": "markdown",
   "metadata": {},
   "source": [
    "Consulta 3: Debe devolver el usuario que acumula más horas jugadas para el género dado y una lista de la acumulación de horas jugadas por año de lanzamiento."
   ]
  },
  {
   "cell_type": "code",
   "execution_count": 17,
   "metadata": {},
   "outputs": [],
   "source": [
    "# Función para calcular el usuario que acumula más horas jugadas para el género dado y una lista de la acumulación de horas jugadas por año de lanzamiento.\n",
    "def genre(genero):\n",
    "\n",
    "    # Filtrar los juegos que contengan el genero dado\n",
    "    df_juegos = games_cleaned[games_cleaned['genres'].apply(lambda x: isinstance(x, list) and genero in x)]\n",
    "   \n",
    "    # Unir el DataFrame de juegos con el de items\n",
    "    df_merged = pd.merge(items_cleaned, df_juegos, on='item_name', how='inner')\n",
    "\n",
    "    # Agrupar por usuario y sumar las horas jugadas\n",
    "    df_grouped = df_merged.groupby('user_id').agg(total_playtime=('playtime_forever', 'sum'))\n",
    "\n",
    "    # Ordenar por el total de horas jugadas en orden descendente\n",
    "    df_grouped = df_grouped.sort_values(by='total_playtime', ascending=False).reset_index()\n",
    "\n",
    "    # Guardar en una variable el usuario con más horas jugadas\n",
    "    most_played_user = df_grouped['user_id'][0]  # Usuario con más horas jugadas\n",
    "\n",
    "    # Filtrar el DataFrame para obtener solo los datos del usuario específico\n",
    "    df_usuario = df_merged[df_merged['user_id'] == most_played_user]\n",
    "\n",
    "    # Agrupar por año y sumar las horas jugadas del usuario\n",
    "    df_grouped_usuario = df_usuario.groupby('year').agg(total_playtime=('playtime_forever', 'sum')).reset_index()\n",
    "\n",
    "    return (f'Usuario con más horas jugadas para {genero}: {most_played_user}', df_grouped_usuario)"
   ]
  },
  {
   "cell_type": "code",
   "execution_count": null,
   "metadata": {},
   "outputs": [],
   "source": [
    "t = genre('Action')\n",
    "print(t)"
   ]
  },
  {
   "cell_type": "markdown",
   "metadata": {},
   "source": [
    "Consulta 4: Devuelve el top 3 de desarrolladores con juegos MÁS recomendados por usuarios para el año dado. (reviews.recommend = True y comentarios positivos)"
   ]
  },
  {
   "cell_type": "code",
   "execution_count": 19,
   "metadata": {},
   "outputs": [],
   "source": [
    "# Función para obtener el top 3 de desarrolladores con juegos más recomendados en un año dado\n",
    "def best_developer(año):\n",
    "\n",
    "    # Filtrar los juegos lanzados en el año dado\n",
    "    juegos_del_año = games_cleaned[games_cleaned['year'] == año]\n",
    "\n",
    "    # Unir los DataFrames de games y reviews en base al nombre del juego (app_name)\n",
    "    merged_df = pd.merge(juegos_del_año, reviews_cleaned, on='item_id', how='inner')\n",
    "\n",
    "    # Filtrar por recomendaciones positivas y comentarios positivos\n",
    "    juegos_recomendados = merged_df[(merged_df['recommend'] == True) & (merged_df['sentiment_analysis'] == 2)]\n",
    "\n",
    "    # Agrupar por desarrollador y contar las recomendaciones positivas\n",
    "    desarrollador_recomendaciones = juegos_recomendados.groupby('developer').size().reset_index(name='num_recommendations')\n",
    "\n",
    "    # Ordenar los desarrolladores por la cantidad de recomendaciones y seleccionar el top 3\n",
    "    top_3_desarrolladores = desarrollador_recomendaciones.sort_values(by='num_recommendations', ascending=False).head(3)\n",
    "\n",
    "    return top_3_desarrolladores"
   ]
  },
  {
   "cell_type": "code",
   "execution_count": null,
   "metadata": {},
   "outputs": [],
   "source": [
    "u = best_developer(2017)\n",
    "print(u)"
   ]
  },
  {
   "cell_type": "markdown",
   "metadata": {},
   "source": [
    "Consulta 5: Según el desarrollador, se devuelve un diccionario con el nombre del desarrollador como llave y una lista con la cantidad total de registros de reseñas de usuarios que se encuentren categorizados con un análisis de sentimiento como valor positivo o negativo."
   ]
  },
  {
   "cell_type": "code",
   "execution_count": 21,
   "metadata": {},
   "outputs": [],
   "source": [
    "# Función para devolver la cantidad de reseñas positivas y negativas de una desarrolladora\n",
    "def developer_reviews(desarrolladora):\n",
    "\n",
    "    # Filtrar los juegos que fueron desarrollados por la desarrolladora dada\n",
    "    juegos_de_desarrolladora = games_cleaned[games_cleaned['developer'] == desarrolladora]\n",
    "\n",
    "    # Unir los DataFrames de juegos y reseñas en base al id del juego (item_id)\n",
    "    merged_df = pd.merge(juegos_de_desarrolladora, reviews_cleaned, on='item_id', how='inner')\n",
    "\n",
    "    # Contar la cantidad de reseñas positivas y negativas\n",
    "    reseñas_positivas = merged_df[merged_df['sentiment_analysis'] == 2].shape[0]\n",
    "    reseñas_negativas = merged_df[merged_df['sentiment_analysis'] == 0].shape[0]\n",
    "\n",
    "    # Devolver el resultado en formato diccionario\n",
    "    resultado = {\n",
    "        desarrolladora: {\n",
    "            \"Positive\": reseñas_positivas,\n",
    "            \"Negative\": reseñas_negativas\n",
    "        }\n",
    "    }\n",
    "\n",
    "    return resultado"
   ]
  },
  {
   "cell_type": "code",
   "execution_count": null,
   "metadata": {},
   "outputs": [],
   "source": [
    "v = developer_reviews('Freejam')\n",
    "print(v)"
   ]
  },
  {
   "cell_type": "markdown",
   "metadata": {},
   "source": [
    "### Modelo de Recomendación"
   ]
  },
  {
   "cell_type": "code",
   "execution_count": 23,
   "metadata": {},
   "outputs": [],
   "source": [
    "games1 = games_cleaned.copy()"
   ]
  },
  {
   "cell_type": "code",
   "execution_count": 24,
   "metadata": {},
   "outputs": [],
   "source": [
    "games1['tags_combined'] = games1['tags'].fillna('').apply(lambda x: ' '.join(x))"
   ]
  },
  {
   "cell_type": "code",
   "execution_count": 25,
   "metadata": {},
   "outputs": [],
   "source": [
    "tfidf = TfidfVectorizer(stop_words='english')\n",
    "tfidf_matrix = tfidf.fit_transform(games1['tags_combined'])"
   ]
  },
  {
   "cell_type": "code",
   "execution_count": 26,
   "metadata": {},
   "outputs": [],
   "source": [
    "cosine_sim = cosine_similarity(tfidf_matrix, tfidf_matrix)"
   ]
  },
  {
   "cell_type": "code",
   "execution_count": 27,
   "metadata": {},
   "outputs": [],
   "source": [
    "def year_penalty(year1, year2):\n",
    "    return 1 - (abs(year1 - year2) / 10)"
   ]
  },
  {
   "cell_type": "code",
   "execution_count": 28,
   "metadata": {},
   "outputs": [],
   "source": [
    "def get_recommendations(item_id, num_recommendations=5):\n",
    "    try:\n",
    "        # Obtener el índice del juego\n",
    "        idx = games1[games1['item_id'] == item_id].index[0]\n",
    "        \n",
    "        # Obtener el año del juego\n",
    "        target_year = games1.loc[idx, 'year']\n",
    "\n",
    "        # Obtener las similitudes basadas en géneros\n",
    "        sim_scores = list(enumerate(cosine_sim[idx]))\n",
    "\n",
    "        # Ajustar las similitudes en base a la cercanía de los años\n",
    "        for i, (index, score) in enumerate(sim_scores):\n",
    "            game_year = games1.loc[index, 'year']\n",
    "            sim_scores[i] = (index, score * year_penalty(target_year, game_year))\n",
    "\n",
    "        # Ordenar por similitud y obtener los 5 juegos más similares\n",
    "        sim_scores = sorted(sim_scores, key=lambda x: x[1], reverse=True)[1:num_recommendations+1]\n",
    "\n",
    "        # Obtener los índices de los juegos recomendados\n",
    "        game_indices = [i[0] for i in sim_scores]\n",
    "        \n",
    "        # Devolver los juegos recomendados (IDs y nombres)\n",
    "        return games1[['item_id', 'item_name']].iloc[game_indices]\n",
    "\n",
    "    except IndexError:\n",
    "        return \"Juego no encontrado\""
   ]
  },
  {
   "cell_type": "code",
   "execution_count": null,
   "metadata": {},
   "outputs": [],
   "source": [
    "l = get_recommendations(200870, num_recommendations=5)\n",
    "print(l)"
   ]
  },
  {
   "cell_type": "code",
   "execution_count": null,
   "metadata": {},
   "outputs": [],
   "source": [
    "games1[games1['item_id']==331450]"
   ]
  },
  {
   "cell_type": "code",
   "execution_count": null,
   "metadata": {},
   "outputs": [],
   "source": [
    "games1[games1['item_name']==\"Assassin's Creed Revelations - The Ancestors Character Pack\"]"
   ]
  }
 ],
 "metadata": {
  "kernelspec": {
   "display_name": "venv",
   "language": "python",
   "name": "python3"
  },
  "language_info": {
   "codemirror_mode": {
    "name": "ipython",
    "version": 3
   },
   "file_extension": ".py",
   "mimetype": "text/x-python",
   "name": "python",
   "nbconvert_exporter": "python",
   "pygments_lexer": "ipython3",
   "version": "3.11.9"
  }
 },
 "nbformat": 4,
 "nbformat_minor": 2
}
